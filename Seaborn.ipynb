{
  "nbformat": 4,
  "nbformat_minor": 0,
  "metadata": {
    "colab": {
      "name": "Seaborn.ipynb",
      "provenance": [],
      "authorship_tag": "ABX9TyMJ04Rwb2Gl1BU4nOx25MAy",
      "include_colab_link": true
    },
    "kernelspec": {
      "name": "python3",
      "display_name": "Python 3"
    },
    "language_info": {
      "name": "python"
    }
  },
  "cells": [
    {
      "cell_type": "markdown",
      "metadata": {
        "id": "view-in-github",
        "colab_type": "text"
      },
      "source": [
        "<a href=\"https://colab.research.google.com/github/venkat2ram/AI_Playground/blob/main/Seaborn.ipynb\" target=\"_parent\"><img src=\"https://colab.research.google.com/assets/colab-badge.svg\" alt=\"Open In Colab\"/></a>"
      ]
    },
    {
      "cell_type": "code",
      "metadata": {
        "id": "wp4oO87wnxiZ"
      },
      "source": [
        "import pandas as pd\n",
        "import numpy as np\n",
        "import seaborn as sns"
      ],
      "execution_count": 1,
      "outputs": []
    },
    {
      "cell_type": "code",
      "metadata": {
        "id": "f8egf8cLqkQZ"
      },
      "source": [
        "ratings_url = 'https://cf-courses-data.s3.us.cloud-object-storage.appdomain.cloud/IBMDeveloperSkillsNetwork-ST0151EN-SkillsNetwork/labs/teachingratings.csv'\n",
        "rating_df=pd.read_csv(ratings_url)"
      ],
      "execution_count": 2,
      "outputs": []
    },
    {
      "cell_type": "code",
      "metadata": {
        "colab": {
          "base_uri": "https://localhost:8080/",
          "height": 295
        },
        "id": "CNIepEj7q1L_",
        "outputId": "bf540903-9653-4e2c-c6cf-64c76e38b51c"
      },
      "source": [
        "rating_df.describe()"
      ],
      "execution_count": 3,
      "outputs": [
        {
          "output_type": "execute_result",
          "data": {
            "text/plain": [
              "              age        beauty        eval    students  allstudents  \\\n",
              "count  463.000000  4.630000e+02  463.000000  463.000000   463.000000   \n",
              "mean    48.365011  6.271140e-08    3.998272   36.624190    55.177106   \n",
              "std      9.802742  7.886477e-01    0.554866   45.018481    75.072800   \n",
              "min     29.000000 -1.450494e+00    2.100000    5.000000     8.000000   \n",
              "25%     42.000000 -6.562689e-01    3.600000   15.000000    19.000000   \n",
              "50%     48.000000 -6.801430e-02    4.000000   23.000000    29.000000   \n",
              "75%     57.000000  5.456024e-01    4.400000   40.000000    60.000000   \n",
              "max     73.000000  1.970023e+00    5.000000  380.000000   581.000000   \n",
              "\n",
              "             prof  PrimaryLast      vismin      female  single_credit  \\\n",
              "count  463.000000   463.000000  463.000000  463.000000     463.000000   \n",
              "mean    45.434125     0.203024    0.138229    0.421166       0.058315   \n",
              "std     27.508902     0.402685    0.345513    0.494280       0.234592   \n",
              "min      1.000000     0.000000    0.000000    0.000000       0.000000   \n",
              "25%     20.000000     0.000000    0.000000    0.000000       0.000000   \n",
              "50%     44.000000     0.000000    0.000000    0.000000       0.000000   \n",
              "75%     70.500000     0.000000    0.000000    1.000000       0.000000   \n",
              "max     94.000000     1.000000    1.000000    1.000000       1.000000   \n",
              "\n",
              "       upper_division  English_speaker  tenured_prof  \n",
              "count      463.000000       463.000000    463.000000  \n",
              "mean         0.660907         0.939525      0.779698  \n",
              "std          0.473913         0.238623      0.414899  \n",
              "min          0.000000         0.000000      0.000000  \n",
              "25%          0.000000         1.000000      1.000000  \n",
              "50%          1.000000         1.000000      1.000000  \n",
              "75%          1.000000         1.000000      1.000000  \n",
              "max          1.000000         1.000000      1.000000  "
            ],
            "text/html": [
              "<div>\n",
              "<style scoped>\n",
              "    .dataframe tbody tr th:only-of-type {\n",
              "        vertical-align: middle;\n",
              "    }\n",
              "\n",
              "    .dataframe tbody tr th {\n",
              "        vertical-align: top;\n",
              "    }\n",
              "\n",
              "    .dataframe thead th {\n",
              "        text-align: right;\n",
              "    }\n",
              "</style>\n",
              "<table border=\"1\" class=\"dataframe\">\n",
              "  <thead>\n",
              "    <tr style=\"text-align: right;\">\n",
              "      <th></th>\n",
              "      <th>age</th>\n",
              "      <th>beauty</th>\n",
              "      <th>eval</th>\n",
              "      <th>students</th>\n",
              "      <th>allstudents</th>\n",
              "      <th>prof</th>\n",
              "      <th>PrimaryLast</th>\n",
              "      <th>vismin</th>\n",
              "      <th>female</th>\n",
              "      <th>single_credit</th>\n",
              "      <th>upper_division</th>\n",
              "      <th>English_speaker</th>\n",
              "      <th>tenured_prof</th>\n",
              "    </tr>\n",
              "  </thead>\n",
              "  <tbody>\n",
              "    <tr>\n",
              "      <th>count</th>\n",
              "      <td>463.000000</td>\n",
              "      <td>4.630000e+02</td>\n",
              "      <td>463.000000</td>\n",
              "      <td>463.000000</td>\n",
              "      <td>463.000000</td>\n",
              "      <td>463.000000</td>\n",
              "      <td>463.000000</td>\n",
              "      <td>463.000000</td>\n",
              "      <td>463.000000</td>\n",
              "      <td>463.000000</td>\n",
              "      <td>463.000000</td>\n",
              "      <td>463.000000</td>\n",
              "      <td>463.000000</td>\n",
              "    </tr>\n",
              "    <tr>\n",
              "      <th>mean</th>\n",
              "      <td>48.365011</td>\n",
              "      <td>6.271140e-08</td>\n",
              "      <td>3.998272</td>\n",
              "      <td>36.624190</td>\n",
              "      <td>55.177106</td>\n",
              "      <td>45.434125</td>\n",
              "      <td>0.203024</td>\n",
              "      <td>0.138229</td>\n",
              "      <td>0.421166</td>\n",
              "      <td>0.058315</td>\n",
              "      <td>0.660907</td>\n",
              "      <td>0.939525</td>\n",
              "      <td>0.779698</td>\n",
              "    </tr>\n",
              "    <tr>\n",
              "      <th>std</th>\n",
              "      <td>9.802742</td>\n",
              "      <td>7.886477e-01</td>\n",
              "      <td>0.554866</td>\n",
              "      <td>45.018481</td>\n",
              "      <td>75.072800</td>\n",
              "      <td>27.508902</td>\n",
              "      <td>0.402685</td>\n",
              "      <td>0.345513</td>\n",
              "      <td>0.494280</td>\n",
              "      <td>0.234592</td>\n",
              "      <td>0.473913</td>\n",
              "      <td>0.238623</td>\n",
              "      <td>0.414899</td>\n",
              "    </tr>\n",
              "    <tr>\n",
              "      <th>min</th>\n",
              "      <td>29.000000</td>\n",
              "      <td>-1.450494e+00</td>\n",
              "      <td>2.100000</td>\n",
              "      <td>5.000000</td>\n",
              "      <td>8.000000</td>\n",
              "      <td>1.000000</td>\n",
              "      <td>0.000000</td>\n",
              "      <td>0.000000</td>\n",
              "      <td>0.000000</td>\n",
              "      <td>0.000000</td>\n",
              "      <td>0.000000</td>\n",
              "      <td>0.000000</td>\n",
              "      <td>0.000000</td>\n",
              "    </tr>\n",
              "    <tr>\n",
              "      <th>25%</th>\n",
              "      <td>42.000000</td>\n",
              "      <td>-6.562689e-01</td>\n",
              "      <td>3.600000</td>\n",
              "      <td>15.000000</td>\n",
              "      <td>19.000000</td>\n",
              "      <td>20.000000</td>\n",
              "      <td>0.000000</td>\n",
              "      <td>0.000000</td>\n",
              "      <td>0.000000</td>\n",
              "      <td>0.000000</td>\n",
              "      <td>0.000000</td>\n",
              "      <td>1.000000</td>\n",
              "      <td>1.000000</td>\n",
              "    </tr>\n",
              "    <tr>\n",
              "      <th>50%</th>\n",
              "      <td>48.000000</td>\n",
              "      <td>-6.801430e-02</td>\n",
              "      <td>4.000000</td>\n",
              "      <td>23.000000</td>\n",
              "      <td>29.000000</td>\n",
              "      <td>44.000000</td>\n",
              "      <td>0.000000</td>\n",
              "      <td>0.000000</td>\n",
              "      <td>0.000000</td>\n",
              "      <td>0.000000</td>\n",
              "      <td>1.000000</td>\n",
              "      <td>1.000000</td>\n",
              "      <td>1.000000</td>\n",
              "    </tr>\n",
              "    <tr>\n",
              "      <th>75%</th>\n",
              "      <td>57.000000</td>\n",
              "      <td>5.456024e-01</td>\n",
              "      <td>4.400000</td>\n",
              "      <td>40.000000</td>\n",
              "      <td>60.000000</td>\n",
              "      <td>70.500000</td>\n",
              "      <td>0.000000</td>\n",
              "      <td>0.000000</td>\n",
              "      <td>1.000000</td>\n",
              "      <td>0.000000</td>\n",
              "      <td>1.000000</td>\n",
              "      <td>1.000000</td>\n",
              "      <td>1.000000</td>\n",
              "    </tr>\n",
              "    <tr>\n",
              "      <th>max</th>\n",
              "      <td>73.000000</td>\n",
              "      <td>1.970023e+00</td>\n",
              "      <td>5.000000</td>\n",
              "      <td>380.000000</td>\n",
              "      <td>581.000000</td>\n",
              "      <td>94.000000</td>\n",
              "      <td>1.000000</td>\n",
              "      <td>1.000000</td>\n",
              "      <td>1.000000</td>\n",
              "      <td>1.000000</td>\n",
              "      <td>1.000000</td>\n",
              "      <td>1.000000</td>\n",
              "      <td>1.000000</td>\n",
              "    </tr>\n",
              "  </tbody>\n",
              "</table>\n",
              "</div>"
            ]
          },
          "metadata": {
            "tags": []
          },
          "execution_count": 3
        }
      ]
    },
    {
      "cell_type": "markdown",
      "metadata": {
        "id": "l0UG6xETsPlp"
      },
      "source": [
        "Identify all duplicate cases using prof variable - find the unique values of the prof variables"
      ]
    },
    {
      "cell_type": "code",
      "metadata": {
        "colab": {
          "base_uri": "https://localhost:8080/"
        },
        "id": "SyCEiX19rJi7",
        "outputId": "fba4792c-0c53-46da-bdcb-160477531343"
      },
      "source": [
        "rating_df['prof'].unique()"
      ],
      "execution_count": 10,
      "outputs": [
        {
          "output_type": "execute_result",
          "data": {
            "text/plain": [
              "array([ 1,  2,  3,  4,  5,  6,  7,  8,  9, 10, 11, 12, 13, 14, 15, 16, 17,\n",
              "       18, 19, 20, 21, 23, 24, 25, 26, 27, 28, 29, 31, 32, 33, 34, 35, 36,\n",
              "       37, 38, 39, 41, 42, 43, 44, 45, 46, 48, 49, 50, 51, 52, 53, 54, 55,\n",
              "       56, 57, 58, 59, 60, 63, 64, 65, 66, 67, 68, 70, 71, 72, 73, 74, 75,\n",
              "       76, 77, 78, 79, 80, 81, 82, 83, 84, 85, 86, 87, 88, 89, 90, 91, 92,\n",
              "       93, 94, 22, 30, 40, 47, 61, 62, 69], dtype=int64)"
            ]
          },
          "metadata": {
            "tags": []
          },
          "execution_count": 10
        }
      ]
    },
    {
      "cell_type": "markdown",
      "metadata": {
        "id": "DS8upr6gtNE2"
      },
      "source": [
        "find the number unique values of the prof variables."
      ]
    },
    {
      "cell_type": "code",
      "metadata": {
        "colab": {
          "base_uri": "https://localhost:8080/"
        },
        "id": "BO8xw_OtscVE",
        "outputId": "235715b5-add5-4792-b522-8a6a200b6d37"
      },
      "source": [
        "rating_df['prof'].nunique()"
      ],
      "execution_count": 9,
      "outputs": [
        {
          "output_type": "execute_result",
          "data": {
            "text/plain": [
              "94"
            ]
          },
          "metadata": {
            "tags": []
          },
          "execution_count": 9
        }
      ]
    },
    {
      "cell_type": "markdown",
      "metadata": {
        "id": "nxGOxMWFtkG8"
      },
      "source": [
        "Using all observations, Find the average and standard deviation for age"
      ]
    },
    {
      "cell_type": "code",
      "metadata": {
        "colab": {
          "base_uri": "https://localhost:8080/"
        },
        "id": "zvO27VSmtp01",
        "outputId": "69ae9d01-ed44-48d0-eb00-61af9805136a"
      },
      "source": [
        "rating_df.age.mean()"
      ],
      "execution_count": 13,
      "outputs": [
        {
          "output_type": "execute_result",
          "data": {
            "text/plain": [
              "48.365010799136066"
            ]
          },
          "metadata": {
            "tags": []
          },
          "execution_count": 13
        }
      ]
    },
    {
      "cell_type": "code",
      "metadata": {
        "colab": {
          "base_uri": "https://localhost:8080/"
        },
        "id": "rLaeuLD3uBWt",
        "outputId": "e7a59759-6b61-4bbc-beee-14218a848f7c"
      },
      "source": [
        "rating_df.age.std()"
      ],
      "execution_count": 14,
      "outputs": [
        {
          "output_type": "execute_result",
          "data": {
            "text/plain": [
              "9.80274203786482"
            ]
          },
          "metadata": {
            "tags": []
          },
          "execution_count": 14
        }
      ]
    },
    {
      "cell_type": "markdown",
      "metadata": {
        "id": "6t78qW78vuKg"
      },
      "source": [
        "Repeat the analysis by first filtering the data set to include one observation for each instructor with a total number of observations restricted to 94. first we drop duplicates using prof as a subset and assign it a new dataframe name called no_duplicates_ratings_df"
      ]
    },
    {
      "cell_type": "code",
      "metadata": {
        "id": "eFZiffj0uFCS"
      },
      "source": [
        "no_duplicates_rating_df=rating_df.drop_duplicates(subset=['prof'])"
      ],
      "execution_count": 17,
      "outputs": []
    },
    {
      "cell_type": "code",
      "metadata": {
        "colab": {
          "base_uri": "https://localhost:8080/",
          "height": 437
        },
        "id": "giFpxxFMuXT7",
        "outputId": "f595b603-3b44-46c0-f022-55e1b2061b34"
      },
      "source": [
        "no_duplicates_rating_df"
      ],
      "execution_count": 18,
      "outputs": [
        {
          "output_type": "execute_result",
          "data": {
            "text/plain": [
              "    minority  age  gender credits    beauty  eval division native tenure  \\\n",
              "0        yes   36  female    more  0.289916   4.3    upper    yes    yes   \n",
              "4         no   59    male    more -0.737732   4.5    upper    yes    yes   \n",
              "7         no   51    male    more -0.571984   3.7    upper    yes    yes   \n",
              "9         no   40  female    more -0.677963   4.3    upper    yes    yes   \n",
              "17        no   31  female    more  1.509794   4.4    upper    yes    yes   \n",
              "..       ...  ...     ...     ...       ...   ...      ...    ...    ...   \n",
              "458       no   37    male    more  0.933396   3.5    upper    yes    yes   \n",
              "459       no   58  female    more  0.111563   3.5    upper    yes    yes   \n",
              "460       no   42    male    more -0.900580   4.0    upper    yes    yes   \n",
              "461       no   39    male    more  0.643014   4.3    upper    yes    yes   \n",
              "462       no   51  female    more  0.391822   3.0    upper    yes    yes   \n",
              "\n",
              "     students  allstudents  prof  PrimaryLast  vismin  female  single_credit  \\\n",
              "0          24           43     1            0       1       1              0   \n",
              "4          17           20     2            0       0       0              0   \n",
              "7          55           55     3            0       0       0              0   \n",
              "9          40           46     4            0       0       1              0   \n",
              "17         42           48     5            0       0       1              0   \n",
              "..        ...          ...   ...          ...     ...     ...            ...   \n",
              "458        15           17    40            1       0       0              0   \n",
              "459        26           34    47            1       0       1              0   \n",
              "460        45           86    61            1       0       0              0   \n",
              "461        22           29    62            1       0       0              0   \n",
              "462        47           67    69            1       0       1              0   \n",
              "\n",
              "     upper_division  English_speaker  tenured_prof  \n",
              "0                 1                1             1  \n",
              "4                 1                1             1  \n",
              "7                 1                1             1  \n",
              "9                 1                1             1  \n",
              "17                1                1             1  \n",
              "..              ...              ...           ...  \n",
              "458               1                1             1  \n",
              "459               1                1             1  \n",
              "460               1                1             1  \n",
              "461               1                1             1  \n",
              "462               1                1             1  \n",
              "\n",
              "[94 rows x 19 columns]"
            ],
            "text/html": [
              "<div>\n",
              "<style scoped>\n",
              "    .dataframe tbody tr th:only-of-type {\n",
              "        vertical-align: middle;\n",
              "    }\n",
              "\n",
              "    .dataframe tbody tr th {\n",
              "        vertical-align: top;\n",
              "    }\n",
              "\n",
              "    .dataframe thead th {\n",
              "        text-align: right;\n",
              "    }\n",
              "</style>\n",
              "<table border=\"1\" class=\"dataframe\">\n",
              "  <thead>\n",
              "    <tr style=\"text-align: right;\">\n",
              "      <th></th>\n",
              "      <th>minority</th>\n",
              "      <th>age</th>\n",
              "      <th>gender</th>\n",
              "      <th>credits</th>\n",
              "      <th>beauty</th>\n",
              "      <th>eval</th>\n",
              "      <th>division</th>\n",
              "      <th>native</th>\n",
              "      <th>tenure</th>\n",
              "      <th>students</th>\n",
              "      <th>allstudents</th>\n",
              "      <th>prof</th>\n",
              "      <th>PrimaryLast</th>\n",
              "      <th>vismin</th>\n",
              "      <th>female</th>\n",
              "      <th>single_credit</th>\n",
              "      <th>upper_division</th>\n",
              "      <th>English_speaker</th>\n",
              "      <th>tenured_prof</th>\n",
              "    </tr>\n",
              "  </thead>\n",
              "  <tbody>\n",
              "    <tr>\n",
              "      <th>0</th>\n",
              "      <td>yes</td>\n",
              "      <td>36</td>\n",
              "      <td>female</td>\n",
              "      <td>more</td>\n",
              "      <td>0.289916</td>\n",
              "      <td>4.3</td>\n",
              "      <td>upper</td>\n",
              "      <td>yes</td>\n",
              "      <td>yes</td>\n",
              "      <td>24</td>\n",
              "      <td>43</td>\n",
              "      <td>1</td>\n",
              "      <td>0</td>\n",
              "      <td>1</td>\n",
              "      <td>1</td>\n",
              "      <td>0</td>\n",
              "      <td>1</td>\n",
              "      <td>1</td>\n",
              "      <td>1</td>\n",
              "    </tr>\n",
              "    <tr>\n",
              "      <th>4</th>\n",
              "      <td>no</td>\n",
              "      <td>59</td>\n",
              "      <td>male</td>\n",
              "      <td>more</td>\n",
              "      <td>-0.737732</td>\n",
              "      <td>4.5</td>\n",
              "      <td>upper</td>\n",
              "      <td>yes</td>\n",
              "      <td>yes</td>\n",
              "      <td>17</td>\n",
              "      <td>20</td>\n",
              "      <td>2</td>\n",
              "      <td>0</td>\n",
              "      <td>0</td>\n",
              "      <td>0</td>\n",
              "      <td>0</td>\n",
              "      <td>1</td>\n",
              "      <td>1</td>\n",
              "      <td>1</td>\n",
              "    </tr>\n",
              "    <tr>\n",
              "      <th>7</th>\n",
              "      <td>no</td>\n",
              "      <td>51</td>\n",
              "      <td>male</td>\n",
              "      <td>more</td>\n",
              "      <td>-0.571984</td>\n",
              "      <td>3.7</td>\n",
              "      <td>upper</td>\n",
              "      <td>yes</td>\n",
              "      <td>yes</td>\n",
              "      <td>55</td>\n",
              "      <td>55</td>\n",
              "      <td>3</td>\n",
              "      <td>0</td>\n",
              "      <td>0</td>\n",
              "      <td>0</td>\n",
              "      <td>0</td>\n",
              "      <td>1</td>\n",
              "      <td>1</td>\n",
              "      <td>1</td>\n",
              "    </tr>\n",
              "    <tr>\n",
              "      <th>9</th>\n",
              "      <td>no</td>\n",
              "      <td>40</td>\n",
              "      <td>female</td>\n",
              "      <td>more</td>\n",
              "      <td>-0.677963</td>\n",
              "      <td>4.3</td>\n",
              "      <td>upper</td>\n",
              "      <td>yes</td>\n",
              "      <td>yes</td>\n",
              "      <td>40</td>\n",
              "      <td>46</td>\n",
              "      <td>4</td>\n",
              "      <td>0</td>\n",
              "      <td>0</td>\n",
              "      <td>1</td>\n",
              "      <td>0</td>\n",
              "      <td>1</td>\n",
              "      <td>1</td>\n",
              "      <td>1</td>\n",
              "    </tr>\n",
              "    <tr>\n",
              "      <th>17</th>\n",
              "      <td>no</td>\n",
              "      <td>31</td>\n",
              "      <td>female</td>\n",
              "      <td>more</td>\n",
              "      <td>1.509794</td>\n",
              "      <td>4.4</td>\n",
              "      <td>upper</td>\n",
              "      <td>yes</td>\n",
              "      <td>yes</td>\n",
              "      <td>42</td>\n",
              "      <td>48</td>\n",
              "      <td>5</td>\n",
              "      <td>0</td>\n",
              "      <td>0</td>\n",
              "      <td>1</td>\n",
              "      <td>0</td>\n",
              "      <td>1</td>\n",
              "      <td>1</td>\n",
              "      <td>1</td>\n",
              "    </tr>\n",
              "    <tr>\n",
              "      <th>...</th>\n",
              "      <td>...</td>\n",
              "      <td>...</td>\n",
              "      <td>...</td>\n",
              "      <td>...</td>\n",
              "      <td>...</td>\n",
              "      <td>...</td>\n",
              "      <td>...</td>\n",
              "      <td>...</td>\n",
              "      <td>...</td>\n",
              "      <td>...</td>\n",
              "      <td>...</td>\n",
              "      <td>...</td>\n",
              "      <td>...</td>\n",
              "      <td>...</td>\n",
              "      <td>...</td>\n",
              "      <td>...</td>\n",
              "      <td>...</td>\n",
              "      <td>...</td>\n",
              "      <td>...</td>\n",
              "    </tr>\n",
              "    <tr>\n",
              "      <th>458</th>\n",
              "      <td>no</td>\n",
              "      <td>37</td>\n",
              "      <td>male</td>\n",
              "      <td>more</td>\n",
              "      <td>0.933396</td>\n",
              "      <td>3.5</td>\n",
              "      <td>upper</td>\n",
              "      <td>yes</td>\n",
              "      <td>yes</td>\n",
              "      <td>15</td>\n",
              "      <td>17</td>\n",
              "      <td>40</td>\n",
              "      <td>1</td>\n",
              "      <td>0</td>\n",
              "      <td>0</td>\n",
              "      <td>0</td>\n",
              "      <td>1</td>\n",
              "      <td>1</td>\n",
              "      <td>1</td>\n",
              "    </tr>\n",
              "    <tr>\n",
              "      <th>459</th>\n",
              "      <td>no</td>\n",
              "      <td>58</td>\n",
              "      <td>female</td>\n",
              "      <td>more</td>\n",
              "      <td>0.111563</td>\n",
              "      <td>3.5</td>\n",
              "      <td>upper</td>\n",
              "      <td>yes</td>\n",
              "      <td>yes</td>\n",
              "      <td>26</td>\n",
              "      <td>34</td>\n",
              "      <td>47</td>\n",
              "      <td>1</td>\n",
              "      <td>0</td>\n",
              "      <td>1</td>\n",
              "      <td>0</td>\n",
              "      <td>1</td>\n",
              "      <td>1</td>\n",
              "      <td>1</td>\n",
              "    </tr>\n",
              "    <tr>\n",
              "      <th>460</th>\n",
              "      <td>no</td>\n",
              "      <td>42</td>\n",
              "      <td>male</td>\n",
              "      <td>more</td>\n",
              "      <td>-0.900580</td>\n",
              "      <td>4.0</td>\n",
              "      <td>upper</td>\n",
              "      <td>yes</td>\n",
              "      <td>yes</td>\n",
              "      <td>45</td>\n",
              "      <td>86</td>\n",
              "      <td>61</td>\n",
              "      <td>1</td>\n",
              "      <td>0</td>\n",
              "      <td>0</td>\n",
              "      <td>0</td>\n",
              "      <td>1</td>\n",
              "      <td>1</td>\n",
              "      <td>1</td>\n",
              "    </tr>\n",
              "    <tr>\n",
              "      <th>461</th>\n",
              "      <td>no</td>\n",
              "      <td>39</td>\n",
              "      <td>male</td>\n",
              "      <td>more</td>\n",
              "      <td>0.643014</td>\n",
              "      <td>4.3</td>\n",
              "      <td>upper</td>\n",
              "      <td>yes</td>\n",
              "      <td>yes</td>\n",
              "      <td>22</td>\n",
              "      <td>29</td>\n",
              "      <td>62</td>\n",
              "      <td>1</td>\n",
              "      <td>0</td>\n",
              "      <td>0</td>\n",
              "      <td>0</td>\n",
              "      <td>1</td>\n",
              "      <td>1</td>\n",
              "      <td>1</td>\n",
              "    </tr>\n",
              "    <tr>\n",
              "      <th>462</th>\n",
              "      <td>no</td>\n",
              "      <td>51</td>\n",
              "      <td>female</td>\n",
              "      <td>more</td>\n",
              "      <td>0.391822</td>\n",
              "      <td>3.0</td>\n",
              "      <td>upper</td>\n",
              "      <td>yes</td>\n",
              "      <td>yes</td>\n",
              "      <td>47</td>\n",
              "      <td>67</td>\n",
              "      <td>69</td>\n",
              "      <td>1</td>\n",
              "      <td>0</td>\n",
              "      <td>1</td>\n",
              "      <td>0</td>\n",
              "      <td>1</td>\n",
              "      <td>1</td>\n",
              "      <td>1</td>\n",
              "    </tr>\n",
              "  </tbody>\n",
              "</table>\n",
              "<p>94 rows × 19 columns</p>\n",
              "</div>"
            ]
          },
          "metadata": {
            "tags": []
          },
          "execution_count": 18
        }
      ]
    },
    {
      "cell_type": "code",
      "metadata": {
        "id": "2aiciJ4Zuagp"
      },
      "source": [
        ""
      ],
      "execution_count": null,
      "outputs": []
    }
  ]
}