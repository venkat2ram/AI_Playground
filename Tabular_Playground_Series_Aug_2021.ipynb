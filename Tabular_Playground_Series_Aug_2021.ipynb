{
  "nbformat": 4,
  "nbformat_minor": 0,
  "metadata": {
    "colab": {
      "name": "Tabular_Playground_Series_Aug_2021.ipynb",
      "provenance": [],
      "authorship_tag": "ABX9TyNo3GF+JVsxD47jnnWV+LPp",
      "include_colab_link": true
    },
    "kernelspec": {
      "name": "python3",
      "display_name": "Python 3"
    },
    "language_info": {
      "name": "python"
    }
  },
  "cells": [
    {
      "cell_type": "markdown",
      "metadata": {
        "id": "view-in-github",
        "colab_type": "text"
      },
      "source": [
        "<a href=\"https://colab.research.google.com/github/venkat2ram/AI_Playground/blob/main/Tabular_Playground_Series_Aug_2021.ipynb\" target=\"_parent\"><img src=\"https://colab.research.google.com/assets/colab-badge.svg\" alt=\"Open In Colab\"/></a>"
      ]
    },
    {
      "cell_type": "code",
      "metadata": {
        "id": "ku1DnHdsvmi_"
      },
      "source": [
        "import pandas as pd\n",
        "import numpy as np\n",
        "import matplotlib.pyplot as plt\n",
        "import seaborn as sns"
      ],
      "execution_count": 42,
      "outputs": []
    },
    {
      "cell_type": "code",
      "metadata": {
        "id": "tqGx0wF90Eqs"
      },
      "source": [
        "dataset=pd.read_csv(r'C:\\AI Practice\\Tabular Playground Series - Aug 2021\\train.csv')"
      ],
      "execution_count": 43,
      "outputs": []
    },
    {
      "cell_type": "code",
      "metadata": {
        "colab": {
          "base_uri": "https://localhost:8080/",
          "height": 437
        },
        "id": "u8Xdg2aP3aBW",
        "outputId": "7469a14c-ac12-4f3f-ad04-84d6bc7ccea5"
      },
      "source": [
        "dataset"
      ],
      "execution_count": 44,
      "outputs": [
        {
          "output_type": "execute_result",
          "data": {
            "text/plain": [
              "            id        f0   f1        f2        f3           f4        f5  \\\n",
              "0            0 -0.002350   59  0.766739 -1.350460     42.27270  16.68570   \n",
              "1            1  0.784462  145 -0.463845 -0.530421  27324.90000   3.47545   \n",
              "2            2  0.317816   19 -0.432571 -0.382644   1383.26000  19.71290   \n",
              "3            3  0.210753   17 -0.616454  0.946362   -119.25300   4.08235   \n",
              "4            4  0.439671   20  0.968126 -0.092546     74.30200  12.30650   \n",
              "...        ...       ...  ...       ...       ...          ...       ...   \n",
              "249995  249995  0.923980    6  0.663212 -0.055120      6.61768   1.26619   \n",
              "249996  249996  0.243556    7 -0.557062  1.333470    -54.88610  17.58310   \n",
              "249997  249997  0.046023   53  0.462863  0.704034   2062.94000  14.58160   \n",
              "249998  249998  0.977330   12 -1.002880  0.576377   4741.16000  11.10090   \n",
              "249999  249999  0.244233   51  0.729304 -0.702592    197.46200  19.02400   \n",
              "\n",
              "               f6        f7          f8  ...         f91        f92      f93  \\\n",
              "0        30.35990  1.267300    0.392007  ...   -42.43990  26.854000  1.45751   \n",
              "1       160.49800  0.828007    3.735860  ...  -184.13200   7.901370  1.70644   \n",
              "2        31.10260 -0.515354   34.430800  ...     7.43721  37.218100  3.25339   \n",
              "3       185.25700  1.383310  -47.521400  ...     9.66778   0.626942  1.49425   \n",
              "4        72.18600 -0.233964   24.399100  ...   290.65700  15.604300  1.73557   \n",
              "...           ...       ...         ...  ...         ...        ...      ...   \n",
              "249995   40.44790  0.852375   25.522400  ...  3517.97000  18.534200  1.41936   \n",
              "249996  212.96400 -1.204750 -128.385000  ...  1945.81000  19.482200  1.60072   \n",
              "249997   11.42710 -0.509812   80.818000  ...   -28.46890  11.008200  1.61080   \n",
              "249998    3.81546  0.616191  118.902000  ...  -275.53700  21.985700  3.16051   \n",
              "249999   42.33370  0.465181 -115.398000  ...  5387.25000  38.574600  3.61783   \n",
              "\n",
              "             f94        f95       f96       f97       f98        f99  loss  \n",
              "0       0.696161   0.941764  1.828470  0.924090  2.296580  10.489800    15  \n",
              "1      -0.494699  -2.058300  0.819184  0.439152  2.364700   1.143830     3  \n",
              "2       0.337934   0.615037  2.216760  0.745268  1.696790  12.305500     6  \n",
              "3       0.517513 -10.222100  2.627310  0.617270  1.456450  10.028800     2  \n",
              "4      -0.476668   1.390190  2.195740  0.826987  1.784850   7.071970     1  \n",
              "...          ...        ...       ...       ...       ...        ...   ...  \n",
              "249995  0.607504   4.950780  2.853420  0.961882  1.068010   1.437650    11  \n",
              "249996 -0.154877   5.693280  1.994540  0.760925  1.427880   1.226720     5  \n",
              "249997 -0.350927  27.986900  1.012690  0.830533  1.005470   0.455332     1  \n",
              "249998  0.772058   2.592220  3.938260  0.697430  0.962347   7.415890    10  \n",
              "249999 -0.544969  -0.987695  1.871910  0.452516  0.935411  28.912200     7  \n",
              "\n",
              "[250000 rows x 102 columns]"
            ],
            "text/html": [
              "<div>\n",
              "<style scoped>\n",
              "    .dataframe tbody tr th:only-of-type {\n",
              "        vertical-align: middle;\n",
              "    }\n",
              "\n",
              "    .dataframe tbody tr th {\n",
              "        vertical-align: top;\n",
              "    }\n",
              "\n",
              "    .dataframe thead th {\n",
              "        text-align: right;\n",
              "    }\n",
              "</style>\n",
              "<table border=\"1\" class=\"dataframe\">\n",
              "  <thead>\n",
              "    <tr style=\"text-align: right;\">\n",
              "      <th></th>\n",
              "      <th>id</th>\n",
              "      <th>f0</th>\n",
              "      <th>f1</th>\n",
              "      <th>f2</th>\n",
              "      <th>f3</th>\n",
              "      <th>f4</th>\n",
              "      <th>f5</th>\n",
              "      <th>f6</th>\n",
              "      <th>f7</th>\n",
              "      <th>f8</th>\n",
              "      <th>...</th>\n",
              "      <th>f91</th>\n",
              "      <th>f92</th>\n",
              "      <th>f93</th>\n",
              "      <th>f94</th>\n",
              "      <th>f95</th>\n",
              "      <th>f96</th>\n",
              "      <th>f97</th>\n",
              "      <th>f98</th>\n",
              "      <th>f99</th>\n",
              "      <th>loss</th>\n",
              "    </tr>\n",
              "  </thead>\n",
              "  <tbody>\n",
              "    <tr>\n",
              "      <th>0</th>\n",
              "      <td>0</td>\n",
              "      <td>-0.002350</td>\n",
              "      <td>59</td>\n",
              "      <td>0.766739</td>\n",
              "      <td>-1.350460</td>\n",
              "      <td>42.27270</td>\n",
              "      <td>16.68570</td>\n",
              "      <td>30.35990</td>\n",
              "      <td>1.267300</td>\n",
              "      <td>0.392007</td>\n",
              "      <td>...</td>\n",
              "      <td>-42.43990</td>\n",
              "      <td>26.854000</td>\n",
              "      <td>1.45751</td>\n",
              "      <td>0.696161</td>\n",
              "      <td>0.941764</td>\n",
              "      <td>1.828470</td>\n",
              "      <td>0.924090</td>\n",
              "      <td>2.296580</td>\n",
              "      <td>10.489800</td>\n",
              "      <td>15</td>\n",
              "    </tr>\n",
              "    <tr>\n",
              "      <th>1</th>\n",
              "      <td>1</td>\n",
              "      <td>0.784462</td>\n",
              "      <td>145</td>\n",
              "      <td>-0.463845</td>\n",
              "      <td>-0.530421</td>\n",
              "      <td>27324.90000</td>\n",
              "      <td>3.47545</td>\n",
              "      <td>160.49800</td>\n",
              "      <td>0.828007</td>\n",
              "      <td>3.735860</td>\n",
              "      <td>...</td>\n",
              "      <td>-184.13200</td>\n",
              "      <td>7.901370</td>\n",
              "      <td>1.70644</td>\n",
              "      <td>-0.494699</td>\n",
              "      <td>-2.058300</td>\n",
              "      <td>0.819184</td>\n",
              "      <td>0.439152</td>\n",
              "      <td>2.364700</td>\n",
              "      <td>1.143830</td>\n",
              "      <td>3</td>\n",
              "    </tr>\n",
              "    <tr>\n",
              "      <th>2</th>\n",
              "      <td>2</td>\n",
              "      <td>0.317816</td>\n",
              "      <td>19</td>\n",
              "      <td>-0.432571</td>\n",
              "      <td>-0.382644</td>\n",
              "      <td>1383.26000</td>\n",
              "      <td>19.71290</td>\n",
              "      <td>31.10260</td>\n",
              "      <td>-0.515354</td>\n",
              "      <td>34.430800</td>\n",
              "      <td>...</td>\n",
              "      <td>7.43721</td>\n",
              "      <td>37.218100</td>\n",
              "      <td>3.25339</td>\n",
              "      <td>0.337934</td>\n",
              "      <td>0.615037</td>\n",
              "      <td>2.216760</td>\n",
              "      <td>0.745268</td>\n",
              "      <td>1.696790</td>\n",
              "      <td>12.305500</td>\n",
              "      <td>6</td>\n",
              "    </tr>\n",
              "    <tr>\n",
              "      <th>3</th>\n",
              "      <td>3</td>\n",
              "      <td>0.210753</td>\n",
              "      <td>17</td>\n",
              "      <td>-0.616454</td>\n",
              "      <td>0.946362</td>\n",
              "      <td>-119.25300</td>\n",
              "      <td>4.08235</td>\n",
              "      <td>185.25700</td>\n",
              "      <td>1.383310</td>\n",
              "      <td>-47.521400</td>\n",
              "      <td>...</td>\n",
              "      <td>9.66778</td>\n",
              "      <td>0.626942</td>\n",
              "      <td>1.49425</td>\n",
              "      <td>0.517513</td>\n",
              "      <td>-10.222100</td>\n",
              "      <td>2.627310</td>\n",
              "      <td>0.617270</td>\n",
              "      <td>1.456450</td>\n",
              "      <td>10.028800</td>\n",
              "      <td>2</td>\n",
              "    </tr>\n",
              "    <tr>\n",
              "      <th>4</th>\n",
              "      <td>4</td>\n",
              "      <td>0.439671</td>\n",
              "      <td>20</td>\n",
              "      <td>0.968126</td>\n",
              "      <td>-0.092546</td>\n",
              "      <td>74.30200</td>\n",
              "      <td>12.30650</td>\n",
              "      <td>72.18600</td>\n",
              "      <td>-0.233964</td>\n",
              "      <td>24.399100</td>\n",
              "      <td>...</td>\n",
              "      <td>290.65700</td>\n",
              "      <td>15.604300</td>\n",
              "      <td>1.73557</td>\n",
              "      <td>-0.476668</td>\n",
              "      <td>1.390190</td>\n",
              "      <td>2.195740</td>\n",
              "      <td>0.826987</td>\n",
              "      <td>1.784850</td>\n",
              "      <td>7.071970</td>\n",
              "      <td>1</td>\n",
              "    </tr>\n",
              "    <tr>\n",
              "      <th>...</th>\n",
              "      <td>...</td>\n",
              "      <td>...</td>\n",
              "      <td>...</td>\n",
              "      <td>...</td>\n",
              "      <td>...</td>\n",
              "      <td>...</td>\n",
              "      <td>...</td>\n",
              "      <td>...</td>\n",
              "      <td>...</td>\n",
              "      <td>...</td>\n",
              "      <td>...</td>\n",
              "      <td>...</td>\n",
              "      <td>...</td>\n",
              "      <td>...</td>\n",
              "      <td>...</td>\n",
              "      <td>...</td>\n",
              "      <td>...</td>\n",
              "      <td>...</td>\n",
              "      <td>...</td>\n",
              "      <td>...</td>\n",
              "      <td>...</td>\n",
              "    </tr>\n",
              "    <tr>\n",
              "      <th>249995</th>\n",
              "      <td>249995</td>\n",
              "      <td>0.923980</td>\n",
              "      <td>6</td>\n",
              "      <td>0.663212</td>\n",
              "      <td>-0.055120</td>\n",
              "      <td>6.61768</td>\n",
              "      <td>1.26619</td>\n",
              "      <td>40.44790</td>\n",
              "      <td>0.852375</td>\n",
              "      <td>25.522400</td>\n",
              "      <td>...</td>\n",
              "      <td>3517.97000</td>\n",
              "      <td>18.534200</td>\n",
              "      <td>1.41936</td>\n",
              "      <td>0.607504</td>\n",
              "      <td>4.950780</td>\n",
              "      <td>2.853420</td>\n",
              "      <td>0.961882</td>\n",
              "      <td>1.068010</td>\n",
              "      <td>1.437650</td>\n",
              "      <td>11</td>\n",
              "    </tr>\n",
              "    <tr>\n",
              "      <th>249996</th>\n",
              "      <td>249996</td>\n",
              "      <td>0.243556</td>\n",
              "      <td>7</td>\n",
              "      <td>-0.557062</td>\n",
              "      <td>1.333470</td>\n",
              "      <td>-54.88610</td>\n",
              "      <td>17.58310</td>\n",
              "      <td>212.96400</td>\n",
              "      <td>-1.204750</td>\n",
              "      <td>-128.385000</td>\n",
              "      <td>...</td>\n",
              "      <td>1945.81000</td>\n",
              "      <td>19.482200</td>\n",
              "      <td>1.60072</td>\n",
              "      <td>-0.154877</td>\n",
              "      <td>5.693280</td>\n",
              "      <td>1.994540</td>\n",
              "      <td>0.760925</td>\n",
              "      <td>1.427880</td>\n",
              "      <td>1.226720</td>\n",
              "      <td>5</td>\n",
              "    </tr>\n",
              "    <tr>\n",
              "      <th>249997</th>\n",
              "      <td>249997</td>\n",
              "      <td>0.046023</td>\n",
              "      <td>53</td>\n",
              "      <td>0.462863</td>\n",
              "      <td>0.704034</td>\n",
              "      <td>2062.94000</td>\n",
              "      <td>14.58160</td>\n",
              "      <td>11.42710</td>\n",
              "      <td>-0.509812</td>\n",
              "      <td>80.818000</td>\n",
              "      <td>...</td>\n",
              "      <td>-28.46890</td>\n",
              "      <td>11.008200</td>\n",
              "      <td>1.61080</td>\n",
              "      <td>-0.350927</td>\n",
              "      <td>27.986900</td>\n",
              "      <td>1.012690</td>\n",
              "      <td>0.830533</td>\n",
              "      <td>1.005470</td>\n",
              "      <td>0.455332</td>\n",
              "      <td>1</td>\n",
              "    </tr>\n",
              "    <tr>\n",
              "      <th>249998</th>\n",
              "      <td>249998</td>\n",
              "      <td>0.977330</td>\n",
              "      <td>12</td>\n",
              "      <td>-1.002880</td>\n",
              "      <td>0.576377</td>\n",
              "      <td>4741.16000</td>\n",
              "      <td>11.10090</td>\n",
              "      <td>3.81546</td>\n",
              "      <td>0.616191</td>\n",
              "      <td>118.902000</td>\n",
              "      <td>...</td>\n",
              "      <td>-275.53700</td>\n",
              "      <td>21.985700</td>\n",
              "      <td>3.16051</td>\n",
              "      <td>0.772058</td>\n",
              "      <td>2.592220</td>\n",
              "      <td>3.938260</td>\n",
              "      <td>0.697430</td>\n",
              "      <td>0.962347</td>\n",
              "      <td>7.415890</td>\n",
              "      <td>10</td>\n",
              "    </tr>\n",
              "    <tr>\n",
              "      <th>249999</th>\n",
              "      <td>249999</td>\n",
              "      <td>0.244233</td>\n",
              "      <td>51</td>\n",
              "      <td>0.729304</td>\n",
              "      <td>-0.702592</td>\n",
              "      <td>197.46200</td>\n",
              "      <td>19.02400</td>\n",
              "      <td>42.33370</td>\n",
              "      <td>0.465181</td>\n",
              "      <td>-115.398000</td>\n",
              "      <td>...</td>\n",
              "      <td>5387.25000</td>\n",
              "      <td>38.574600</td>\n",
              "      <td>3.61783</td>\n",
              "      <td>-0.544969</td>\n",
              "      <td>-0.987695</td>\n",
              "      <td>1.871910</td>\n",
              "      <td>0.452516</td>\n",
              "      <td>0.935411</td>\n",
              "      <td>28.912200</td>\n",
              "      <td>7</td>\n",
              "    </tr>\n",
              "  </tbody>\n",
              "</table>\n",
              "<p>250000 rows × 102 columns</p>\n",
              "</div>"
            ]
          },
          "metadata": {
            "tags": []
          },
          "execution_count": 44
        }
      ]
    },
    {
      "cell_type": "code",
      "metadata": {
        "id": "4dLhCjo73btV"
      },
      "source": [
        "corr=dataset.corr()"
      ],
      "execution_count": 45,
      "outputs": []
    },
    {
      "cell_type": "code",
      "metadata": {
        "colab": {
          "base_uri": "https://localhost:8080/",
          "height": 293
        },
        "id": "NFtKB6Yp5b9F",
        "outputId": "430c3d60-4eec-40f9-eda3-628a283e76a3"
      },
      "source": [
        "sns.heatmap(corr)"
      ],
      "execution_count": 46,
      "outputs": [
        {
          "output_type": "execute_result",
          "data": {
            "text/plain": [
              "<AxesSubplot:>"
            ]
          },
          "metadata": {
            "tags": []
          },
          "execution_count": 46
        },
        {
          "output_type": "display_data",
          "data": {
            "text/plain": [
              "<Figure size 432x288 with 2 Axes>"
            ],
            "image/png": "[encoded data removed]"
          },
          "metadata": {
            "tags": [],
            "needs_background": "light"
          }
        }
      ]
    },
    {
      "cell_type": "code",
      "metadata": {
        "id": "X6AU_fN26L0i"
      },
      "source": [
        "np_dataset=np.array(corr[\"loss\"])"
      ],
      "execution_count": 58,
      "outputs": []
    },
    {
      "cell_type": "code",
      "metadata": {
        "colab": {
          "base_uri": "https://localhost:8080/"
        },
        "id": "UoY7IcUd-1oA",
        "outputId": "80d05086-79a1-43c5-dcc9-4d558ed8a653"
      },
      "source": [
        "np_dataset[np_dataset!=1].max()"
      ],
      "execution_count": 59,
      "outputs": [
        {
          "output_type": "execute_result",
          "data": {
            "text/plain": [
              "0.025729843348057942"
            ]
          },
          "metadata": {
            "tags": []
          },
          "execution_count": 59
        }
      ]
    },
    {
      "cell_type": "code",
      "metadata": {
        "colab": {
          "base_uri": "https://localhost:8080/"
        },
        "id": "XYxmsM4lPIfN",
        "outputId": "7dea55aa-2cef-4510-f420-822e292a2356"
      },
      "source": [
        "np_dataset[np_dataset!=1].min()"
      ],
      "execution_count": 60,
      "outputs": [
        {
          "output_type": "execute_result",
          "data": {
            "text/plain": [
              "-0.030164077180086242"
            ]
          },
          "metadata": {
            "tags": []
          },
          "execution_count": 60
        }
      ]
    },
    {
      "cell_type": "code",
      "metadata": {
        "id": "MJnNQmouPg8g"
      },
      "source": [
        ""
      ],
      "execution_count": null,
      "outputs": []
    }
  ]
}