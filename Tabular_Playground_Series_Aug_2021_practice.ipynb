{
  "nbformat": 4,
  "nbformat_minor": 0,
  "metadata": {
    "colab": {
      "name": "Tabular_Playground_Series_Aug_2021_practice.ipynb",
      "provenance": [],
      "authorship_tag": "ABX9TyPShHcvPte4lZaJjyF4K+/x",
      "include_colab_link": true
    },
    "kernelspec": {
      "name": "python3",
      "display_name": "Python 3"
    },
    "language_info": {
      "name": "python"
    }
  },
  "cells": [
    {
      "cell_type": "markdown",
      "metadata": {
        "id": "view-in-github",
        "colab_type": "text"
      },
      "source": [
        "<a href=\"https://colab.research.google.com/github/venkat2ram/AI_Playground/blob/main/Tabular_Playground_Series_Aug_2021_practice.ipynb\" target=\"_parent\"><img src=\"https://colab.research.google.com/assets/colab-badge.svg\" alt=\"Open In Colab\"/></a>"
      ]
    },
    {
      "cell_type": "code",
      "metadata": {
        "id": "8Rl7qXxUfKnE"
      },
      "source": [
        "import sys\n",
        "import os\n",
        "import math\n",
        "import time\n",
        "import random\n",
        "import shutil\n",
        "from pathlib import Path\n",
        "\n",
        "import scipy as sp\n",
        "import numpy as np\n",
        "import pandas as pd\n",
        "from sklearn.metrics import mean_squared_error"
      ],
      "execution_count": 1,
      "outputs": []
    },
    {
      "cell_type": "code",
      "metadata": {
        "id": "1_HzVy6DfZN6"
      },
      "source": [
        "dataset = pd.read_csv(r'C:\\AI Practice\\Tabular Playground Series - Aug 2021\\train.csv')\n",
        "pred_dataset=pd.read_csv(r'C:\\AI Practice\\Tabular Playground Series - Aug 2021\\test.csv')"
      ],
      "execution_count": 2,
      "outputs": []
    },
    {
      "cell_type": "code",
      "metadata": {
        "id": "CQrIpGD3fnSY"
      },
      "source": [
        "dataset.drop('id',inplace=True,axis=1)\n",
        "pred_dataset.drop('id',inplace=True,axis=1)"
      ],
      "execution_count": 3,
      "outputs": []
    },
    {
      "cell_type": "code",
      "metadata": {
        "colab": {
          "base_uri": "https://localhost:8080/",
          "height": 252
        },
        "id": "ELmm9x_C5Hqu",
        "outputId": "f8626aa6-031d-476e-e92b-eed2e194739b"
      },
      "source": [
        "dataset.head()"
      ],
      "execution_count": 4,
      "outputs": [
        {
          "output_type": "execute_result",
          "data": {
            "text/plain": [
              "         f0   f1        f2        f3          f4        f5        f6  \\\n",
              "0 -0.002350   59  0.766739 -1.350460     42.2727  16.68570   30.3599   \n",
              "1  0.784462  145 -0.463845 -0.530421  27324.9000   3.47545  160.4980   \n",
              "2  0.317816   19 -0.432571 -0.382644   1383.2600  19.71290   31.1026   \n",
              "3  0.210753   17 -0.616454  0.946362   -119.2530   4.08235  185.2570   \n",
              "4  0.439671   20  0.968126 -0.092546     74.3020  12.30650   72.1860   \n",
              "\n",
              "         f7         f8       f9  ...        f91        f92      f93       f94  \\\n",
              "0  1.267300   0.392007  1.09101  ...  -42.43990  26.854000  1.45751  0.696161   \n",
              "1  0.828007   3.735860  1.28138  ... -184.13200   7.901370  1.70644 -0.494699   \n",
              "2 -0.515354  34.430800  1.24210  ...    7.43721  37.218100  3.25339  0.337934   \n",
              "3  1.383310 -47.521400  1.09130  ...    9.66778   0.626942  1.49425  0.517513   \n",
              "4 -0.233964  24.399100  1.10151  ...  290.65700  15.604300  1.73557 -0.476668   \n",
              "\n",
              "         f95       f96       f97      f98       f99  loss  \n",
              "0   0.941764  1.828470  0.924090  2.29658  10.48980    15  \n",
              "1  -2.058300  0.819184  0.439152  2.36470   1.14383     3  \n",
              "2   0.615037  2.216760  0.745268  1.69679  12.30550     6  \n",
              "3 -10.222100  2.627310  0.617270  1.45645  10.02880     2  \n",
              "4   1.390190  2.195740  0.826987  1.78485   7.07197     1  \n",
              "\n",
              "[5 rows x 101 columns]"
            ],
            "text/html": [
              "<div>\n",
              "<style scoped>\n",
              "    .dataframe tbody tr th:only-of-type {\n",
              "        vertical-align: middle;\n",
              "    }\n",
              "\n",
              "    .dataframe tbody tr th {\n",
              "        vertical-align: top;\n",
              "    }\n",
              "\n",
              "    .dataframe thead th {\n",
              "        text-align: right;\n",
              "    }\n",
              "</style>\n",
              "<table border=\"1\" class=\"dataframe\">\n",
              "  <thead>\n",
              "    <tr style=\"text-align: right;\">\n",
              "      <th></th>\n",
              "      <th>f0</th>\n",
              "      <th>f1</th>\n",
              "      <th>f2</th>\n",
              "      <th>f3</th>\n",
              "      <th>f4</th>\n",
              "      <th>f5</th>\n",
              "      <th>f6</th>\n",
              "      <th>f7</th>\n",
              "      <th>f8</th>\n",
              "      <th>f9</th>\n",
              "      <th>...</th>\n",
              "      <th>f91</th>\n",
              "      <th>f92</th>\n",
              "      <th>f93</th>\n",
              "      <th>f94</th>\n",
              "      <th>f95</th>\n",
              "      <th>f96</th>\n",
              "      <th>f97</th>\n",
              "      <th>f98</th>\n",
              "      <th>f99</th>\n",
              "      <th>loss</th>\n",
              "    </tr>\n",
              "  </thead>\n",
              "  <tbody>\n",
              "    <tr>\n",
              "      <th>0</th>\n",
              "      <td>-0.002350</td>\n",
              "      <td>59</td>\n",
              "      <td>0.766739</td>\n",
              "      <td>-1.350460</td>\n",
              "      <td>42.2727</td>\n",
              "      <td>16.68570</td>\n",
              "      <td>30.3599</td>\n",
              "      <td>1.267300</td>\n",
              "      <td>0.392007</td>\n",
              "      <td>1.09101</td>\n",
              "      <td>...</td>\n",
              "      <td>-42.43990</td>\n",
              "      <td>26.854000</td>\n",
              "      <td>1.45751</td>\n",
              "      <td>0.696161</td>\n",
              "      <td>0.941764</td>\n",
              "      <td>1.828470</td>\n",
              "      <td>0.924090</td>\n",
              "      <td>2.29658</td>\n",
              "      <td>10.48980</td>\n",
              "      <td>15</td>\n",
              "    </tr>\n",
              "    <tr>\n",
              "      <th>1</th>\n",
              "      <td>0.784462</td>\n",
              "      <td>145</td>\n",
              "      <td>-0.463845</td>\n",
              "      <td>-0.530421</td>\n",
              "      <td>27324.9000</td>\n",
              "      <td>3.47545</td>\n",
              "      <td>160.4980</td>\n",
              "      <td>0.828007</td>\n",
              "      <td>3.735860</td>\n",
              "      <td>1.28138</td>\n",
              "      <td>...</td>\n",
              "      <td>-184.13200</td>\n",
              "      <td>7.901370</td>\n",
              "      <td>1.70644</td>\n",
              "      <td>-0.494699</td>\n",
              "      <td>-2.058300</td>\n",
              "      <td>0.819184</td>\n",
              "      <td>0.439152</td>\n",
              "      <td>2.36470</td>\n",
              "      <td>1.14383</td>\n",
              "      <td>3</td>\n",
              "    </tr>\n",
              "    <tr>\n",
              "      <th>2</th>\n",
              "      <td>0.317816</td>\n",
              "      <td>19</td>\n",
              "      <td>-0.432571</td>\n",
              "      <td>-0.382644</td>\n",
              "      <td>1383.2600</td>\n",
              "      <td>19.71290</td>\n",
              "      <td>31.1026</td>\n",
              "      <td>-0.515354</td>\n",
              "      <td>34.430800</td>\n",
              "      <td>1.24210</td>\n",
              "      <td>...</td>\n",
              "      <td>7.43721</td>\n",
              "      <td>37.218100</td>\n",
              "      <td>3.25339</td>\n",
              "      <td>0.337934</td>\n",
              "      <td>0.615037</td>\n",
              "      <td>2.216760</td>\n",
              "      <td>0.745268</td>\n",
              "      <td>1.69679</td>\n",
              "      <td>12.30550</td>\n",
              "      <td>6</td>\n",
              "    </tr>\n",
              "    <tr>\n",
              "      <th>3</th>\n",
              "      <td>0.210753</td>\n",
              "      <td>17</td>\n",
              "      <td>-0.616454</td>\n",
              "      <td>0.946362</td>\n",
              "      <td>-119.2530</td>\n",
              "      <td>4.08235</td>\n",
              "      <td>185.2570</td>\n",
              "      <td>1.383310</td>\n",
              "      <td>-47.521400</td>\n",
              "      <td>1.09130</td>\n",
              "      <td>...</td>\n",
              "      <td>9.66778</td>\n",
              "      <td>0.626942</td>\n",
              "      <td>1.49425</td>\n",
              "      <td>0.517513</td>\n",
              "      <td>-10.222100</td>\n",
              "      <td>2.627310</td>\n",
              "      <td>0.617270</td>\n",
              "      <td>1.45645</td>\n",
              "      <td>10.02880</td>\n",
              "      <td>2</td>\n",
              "    </tr>\n",
              "    <tr>\n",
              "      <th>4</th>\n",
              "      <td>0.439671</td>\n",
              "      <td>20</td>\n",
              "      <td>0.968126</td>\n",
              "      <td>-0.092546</td>\n",
              "      <td>74.3020</td>\n",
              "      <td>12.30650</td>\n",
              "      <td>72.1860</td>\n",
              "      <td>-0.233964</td>\n",
              "      <td>24.399100</td>\n",
              "      <td>1.10151</td>\n",
              "      <td>...</td>\n",
              "      <td>290.65700</td>\n",
              "      <td>15.604300</td>\n",
              "      <td>1.73557</td>\n",
              "      <td>-0.476668</td>\n",
              "      <td>1.390190</td>\n",
              "      <td>2.195740</td>\n",
              "      <td>0.826987</td>\n",
              "      <td>1.78485</td>\n",
              "      <td>7.07197</td>\n",
              "      <td>1</td>\n",
              "    </tr>\n",
              "  </tbody>\n",
              "</table>\n",
              "<p>5 rows × 101 columns</p>\n",
              "</div>"
            ]
          },
          "metadata": {
            "tags": []
          },
          "execution_count": 4
        }
      ]
    },
    {
      "cell_type": "code",
      "metadata": {
        "colab": {
          "base_uri": "https://localhost:8080/",
          "height": 252
        },
        "id": "3m4HsYgY5wHu",
        "outputId": "9edc0dd0-c022-41e8-fc6d-e81f2af99fb1"
      },
      "source": [
        "pred_dataset.head()"
      ],
      "execution_count": 5,
      "outputs": [
        {
          "output_type": "execute_result",
          "data": {
            "text/plain": [
              "         f0   f1        f2        f3          f4        f5         f6  \\\n",
              "0  0.812665   15 -1.239120 -0.893251    295.5770  15.87120   23.04360   \n",
              "1  0.190344  131 -0.501361  0.801921     64.8866   3.09703  344.80500   \n",
              "2  0.919671   19 -0.057382  0.901419  11961.2000  16.39650  273.24000   \n",
              "3  0.860985   19 -0.549509  0.471799   7501.6000   2.80698   71.08170   \n",
              "4  0.313229   89  0.588509  0.167705   2931.2600   4.34986    1.57187   \n",
              "\n",
              "         f7         f8       f9  ...       f90        f91       f92      f93  \\\n",
              "0  0.942256  29.898000  1.11394  ...  0.446389   -422.332  -1.44630  1.69075   \n",
              "1  0.807194  38.421900  1.09695  ...  0.377179  10352.200  21.06270  1.84351   \n",
              "2 -0.003300  37.940000  1.15222  ...  0.990140   3224.020  -2.25287  1.55100   \n",
              "3  0.792136   0.395235  1.20157  ...  1.396880   9689.760  14.77150  1.41390   \n",
              "4  1.118300   7.754630  1.16807  ...  0.862502   2693.350  44.18050  1.58020   \n",
              "\n",
              "        f94        f95      f96       f97       f98       f99  \n",
              "0  1.059300  -3.010570  1.94664  0.529470  1.386950   8.78767  \n",
              "1  0.251895   4.440570  1.90309  0.248534  0.863881  11.79390  \n",
              "2 -0.559157  17.838600  1.83385  0.931796  2.336870   9.05400  \n",
              "3  0.329272   0.802437  2.23251  0.893348  1.359470   4.84833  \n",
              "4 -0.191021  26.253000  2.68238  0.361923  1.532800   3.70660  \n",
              "\n",
              "[5 rows x 100 columns]"
            ],
            "text/html": [
              "<div>\n",
              "<style scoped>\n",
              "    .dataframe tbody tr th:only-of-type {\n",
              "        vertical-align: middle;\n",
              "    }\n",
              "\n",
              "    .dataframe tbody tr th {\n",
              "        vertical-align: top;\n",
              "    }\n",
              "\n",
              "    .dataframe thead th {\n",
              "        text-align: right;\n",
              "    }\n",
              "</style>\n",
              "<table border=\"1\" class=\"dataframe\">\n",
              "  <thead>\n",
              "    <tr style=\"text-align: right;\">\n",
              "      <th></th>\n",
              "      <th>f0</th>\n",
              "      <th>f1</th>\n",
              "      <th>f2</th>\n",
              "      <th>f3</th>\n",
              "      <th>f4</th>\n",
              "      <th>f5</th>\n",
              "      <th>f6</th>\n",
              "      <th>f7</th>\n",
              "      <th>f8</th>\n",
              "      <th>f9</th>\n",
              "      <th>...</th>\n",
              "      <th>f90</th>\n",
              "      <th>f91</th>\n",
              "      <th>f92</th>\n",
              "      <th>f93</th>\n",
              "      <th>f94</th>\n",
              "      <th>f95</th>\n",
              "      <th>f96</th>\n",
              "      <th>f97</th>\n",
              "      <th>f98</th>\n",
              "      <th>f99</th>\n",
              "    </tr>\n",
              "  </thead>\n",
              "  <tbody>\n",
              "    <tr>\n",
              "      <th>0</th>\n",
              "      <td>0.812665</td>\n",
              "      <td>15</td>\n",
              "      <td>-1.239120</td>\n",
              "      <td>-0.893251</td>\n",
              "      <td>295.5770</td>\n",
              "      <td>15.87120</td>\n",
              "      <td>23.04360</td>\n",
              "      <td>0.942256</td>\n",
              "      <td>29.898000</td>\n",
              "      <td>1.11394</td>\n",
              "      <td>...</td>\n",
              "      <td>0.446389</td>\n",
              "      <td>-422.332</td>\n",
              "      <td>-1.44630</td>\n",
              "      <td>1.69075</td>\n",
              "      <td>1.059300</td>\n",
              "      <td>-3.010570</td>\n",
              "      <td>1.94664</td>\n",
              "      <td>0.529470</td>\n",
              "      <td>1.386950</td>\n",
              "      <td>8.78767</td>\n",
              "    </tr>\n",
              "    <tr>\n",
              "      <th>1</th>\n",
              "      <td>0.190344</td>\n",
              "      <td>131</td>\n",
              "      <td>-0.501361</td>\n",
              "      <td>0.801921</td>\n",
              "      <td>64.8866</td>\n",
              "      <td>3.09703</td>\n",
              "      <td>344.80500</td>\n",
              "      <td>0.807194</td>\n",
              "      <td>38.421900</td>\n",
              "      <td>1.09695</td>\n",
              "      <td>...</td>\n",
              "      <td>0.377179</td>\n",
              "      <td>10352.200</td>\n",
              "      <td>21.06270</td>\n",
              "      <td>1.84351</td>\n",
              "      <td>0.251895</td>\n",
              "      <td>4.440570</td>\n",
              "      <td>1.90309</td>\n",
              "      <td>0.248534</td>\n",
              "      <td>0.863881</td>\n",
              "      <td>11.79390</td>\n",
              "    </tr>\n",
              "    <tr>\n",
              "      <th>2</th>\n",
              "      <td>0.919671</td>\n",
              "      <td>19</td>\n",
              "      <td>-0.057382</td>\n",
              "      <td>0.901419</td>\n",
              "      <td>11961.2000</td>\n",
              "      <td>16.39650</td>\n",
              "      <td>273.24000</td>\n",
              "      <td>-0.003300</td>\n",
              "      <td>37.940000</td>\n",
              "      <td>1.15222</td>\n",
              "      <td>...</td>\n",
              "      <td>0.990140</td>\n",
              "      <td>3224.020</td>\n",
              "      <td>-2.25287</td>\n",
              "      <td>1.55100</td>\n",
              "      <td>-0.559157</td>\n",
              "      <td>17.838600</td>\n",
              "      <td>1.83385</td>\n",
              "      <td>0.931796</td>\n",
              "      <td>2.336870</td>\n",
              "      <td>9.05400</td>\n",
              "    </tr>\n",
              "    <tr>\n",
              "      <th>3</th>\n",
              "      <td>0.860985</td>\n",
              "      <td>19</td>\n",
              "      <td>-0.549509</td>\n",
              "      <td>0.471799</td>\n",
              "      <td>7501.6000</td>\n",
              "      <td>2.80698</td>\n",
              "      <td>71.08170</td>\n",
              "      <td>0.792136</td>\n",
              "      <td>0.395235</td>\n",
              "      <td>1.20157</td>\n",
              "      <td>...</td>\n",
              "      <td>1.396880</td>\n",
              "      <td>9689.760</td>\n",
              "      <td>14.77150</td>\n",
              "      <td>1.41390</td>\n",
              "      <td>0.329272</td>\n",
              "      <td>0.802437</td>\n",
              "      <td>2.23251</td>\n",
              "      <td>0.893348</td>\n",
              "      <td>1.359470</td>\n",
              "      <td>4.84833</td>\n",
              "    </tr>\n",
              "    <tr>\n",
              "      <th>4</th>\n",
              "      <td>0.313229</td>\n",
              "      <td>89</td>\n",
              "      <td>0.588509</td>\n",
              "      <td>0.167705</td>\n",
              "      <td>2931.2600</td>\n",
              "      <td>4.34986</td>\n",
              "      <td>1.57187</td>\n",
              "      <td>1.118300</td>\n",
              "      <td>7.754630</td>\n",
              "      <td>1.16807</td>\n",
              "      <td>...</td>\n",
              "      <td>0.862502</td>\n",
              "      <td>2693.350</td>\n",
              "      <td>44.18050</td>\n",
              "      <td>1.58020</td>\n",
              "      <td>-0.191021</td>\n",
              "      <td>26.253000</td>\n",
              "      <td>2.68238</td>\n",
              "      <td>0.361923</td>\n",
              "      <td>1.532800</td>\n",
              "      <td>3.70660</td>\n",
              "    </tr>\n",
              "  </tbody>\n",
              "</table>\n",
              "<p>5 rows × 100 columns</p>\n",
              "</div>"
            ]
          },
          "metadata": {
            "tags": []
          },
          "execution_count": 5
        }
      ]
    },
    {
      "cell_type": "code",
      "metadata": {
        "id": "KbsWNwhW5Ijy"
      },
      "source": [
        "dependent_columns=pred_dataset.columns"
      ],
      "execution_count": 6,
      "outputs": []
    },
    {
      "cell_type": "code",
      "metadata": {
        "id": "K5lhOMEA6ncx"
      },
      "source": [
        "from sklearn.preprocessing import MinMaxScaler\n",
        "scaler=MinMaxScaler((0,1))\n",
        "scaler.fit(dataset[dependent_columns])\n",
        "dataset[dependent_columns]=scaler.transform(dataset[dependent_columns])\n",
        "pred_dataset[dependent_columns]=scaler.transform(pred_dataset[dependent_columns])"
      ],
      "execution_count": 7,
      "outputs": []
    },
    {
      "cell_type": "code",
      "metadata": {
        "colab": {
          "base_uri": "https://localhost:8080/",
          "height": 437
        },
        "id": "GVS0ZJGm72_7",
        "outputId": "d4689970-e2e2-4db5-8f99-8e1afac2d4ef"
      },
      "source": [
        "dataset"
      ],
      "execution_count": 8,
      "outputs": [
        {
          "output_type": "execute_result",
          "data": {
            "text/plain": [
              "              f0        f1        f2        f3        f4        f5        f6  \\\n",
              "0       0.058636  0.262069  0.490389  0.039642  0.167960  0.520648  0.072185   \n",
              "1       0.748009  0.558621  0.420724  0.299497  0.768412  0.176353  0.203889   \n",
              "2       0.339152  0.124138  0.422494  0.346325  0.197473  0.599544  0.072937   \n",
              "3       0.245348  0.117241  0.412084  0.767463  0.164405  0.192171  0.228946   \n",
              "4       0.445917  0.127586  0.501790  0.438252  0.168665  0.406514  0.114515   \n",
              "...          ...       ...       ...       ...       ...       ...       ...   \n",
              "249995  0.870249  0.079310  0.484528  0.450112  0.167175  0.118774  0.082395   \n",
              "249996  0.274089  0.082759  0.415447  0.890131  0.165821  0.544036  0.256987   \n",
              "249997  0.101018  0.241379  0.473186  0.690674  0.212432  0.465809  0.053025   \n",
              "249998  0.916993  0.100000  0.390208  0.650222  0.271376  0.375093  0.045322   \n",
              "249999  0.274682  0.234483  0.488270  0.244940  0.171375  0.581590  0.084303   \n",
              "\n",
              "              f7        f8        f9  ...       f91       f92       f93  \\\n",
              "0       0.663569  0.519427  0.201658  ...  0.188769  0.368139  0.261862   \n",
              "1       0.609690  0.522879  0.446219  ...  0.186655  0.142436  0.308433   \n",
              "2       0.444931  0.554563  0.395758  ...  0.189513  0.491562  0.597841   \n",
              "3       0.677797  0.469969  0.202030  ...  0.189547  0.055806  0.268735   \n",
              "4       0.479443  0.544208  0.215147  ...  0.193739  0.234168  0.313882   \n",
              "...          ...       ...       ...  ...       ...       ...       ...   \n",
              "249995  0.612679  0.545368  0.242677  ...  0.241886  0.269060  0.254725   \n",
              "249996  0.360378  0.386499  0.333118  ...  0.218431  0.280349  0.288654   \n",
              "249997  0.445611  0.602446  0.346594  ...  0.188978  0.179434  0.290540   \n",
              "249998  0.583712  0.641758  0.732520  ...  0.185292  0.310163  0.580464   \n",
              "249999  0.565191  0.399904  0.260418  ...  0.269773  0.507717  0.666021   \n",
              "\n",
              "             f94       f95       f96       f97       f98       f99  loss  \n",
              "0       0.683482  0.379244  0.441330  0.835195  0.572721  0.325062    15  \n",
              "1       0.381462  0.334849  0.290870  0.394403  0.585975  0.056975     3  \n",
              "2       0.592630  0.374409  0.499214  0.672652  0.456020  0.377146     6  \n",
              "3       0.638174  0.214041  0.560417  0.556307  0.409258  0.311839     2  \n",
              "4       0.386035  0.385880  0.496081  0.746932  0.473154  0.227023     1  \n",
              "...          ...       ...       ...       ...       ...       ...   ...  \n",
              "249995  0.660997  0.438570  0.594125  0.869547  0.333680  0.065403    11  \n",
              "249996  0.467646  0.449557  0.466087  0.686884  0.403699  0.059352     5  \n",
              "249997  0.417925  0.779458  0.319717  0.750155  0.321512  0.037225     1  \n",
              "249998  0.702730  0.403668  0.755847  0.629169  0.313121  0.236888    10  \n",
              "249999  0.368713  0.350692  0.447806  0.406551  0.307880  0.853506     7  \n",
              "\n",
              "[250000 rows x 101 columns]"
            ],
            "text/html": [
              "<div>\n",
              "<style scoped>\n",
              "    .dataframe tbody tr th:only-of-type {\n",
              "        vertical-align: middle;\n",
              "    }\n",
              "\n",
              "    .dataframe tbody tr th {\n",
              "        vertical-align: top;\n",
              "    }\n",
              "\n",
              "    .dataframe thead th {\n",
              "        text-align: right;\n",
              "    }\n",
              "</style>\n",
              "<table border=\"1\" class=\"dataframe\">\n",
              "  <thead>\n",
              "    <tr style=\"text-align: right;\">\n",
              "      <th></th>\n",
              "      <th>f0</th>\n",
              "      <th>f1</th>\n",
              "      <th>f2</th>\n",
              "      <th>f3</th>\n",
              "      <th>f4</th>\n",
              "      <th>f5</th>\n",
              "      <th>f6</th>\n",
              "      <th>f7</th>\n",
              "      <th>f8</th>\n",
              "      <th>f9</th>\n",
              "      <th>...</th>\n",
              "      <th>f91</th>\n",
              "      <th>f92</th>\n",
              "      <th>f93</th>\n",
              "      <th>f94</th>\n",
              "      <th>f95</th>\n",
              "      <th>f96</th>\n",
              "      <th>f97</th>\n",
              "      <th>f98</th>\n",
              "      <th>f99</th>\n",
              "      <th>loss</th>\n",
              "    </tr>\n",
              "  </thead>\n",
              "  <tbody>\n",
              "    <tr>\n",
              "      <th>0</th>\n",
              "      <td>0.058636</td>\n",
              "      <td>0.262069</td>\n",
              "      <td>0.490389</td>\n",
              "      <td>0.039642</td>\n",
              "      <td>0.167960</td>\n",
              "      <td>0.520648</td>\n",
              "      <td>0.072185</td>\n",
              "      <td>0.663569</td>\n",
              "      <td>0.519427</td>\n",
              "      <td>0.201658</td>\n",
              "      <td>...</td>\n",
              "      <td>0.188769</td>\n",
              "      <td>0.368139</td>\n",
              "      <td>0.261862</td>\n",
              "      <td>0.683482</td>\n",
              "      <td>0.379244</td>\n",
              "      <td>0.441330</td>\n",
              "      <td>0.835195</td>\n",
              "      <td>0.572721</td>\n",
              "      <td>0.325062</td>\n",
              "      <td>15</td>\n",
              "    </tr>\n",
              "    <tr>\n",
              "      <th>1</th>\n",
              "      <td>0.748009</td>\n",
              "      <td>0.558621</td>\n",
              "      <td>0.420724</td>\n",
              "      <td>0.299497</td>\n",
              "      <td>0.768412</td>\n",
              "      <td>0.176353</td>\n",
              "      <td>0.203889</td>\n",
              "      <td>0.609690</td>\n",
              "      <td>0.522879</td>\n",
              "      <td>0.446219</td>\n",
              "      <td>...</td>\n",
              "      <td>0.186655</td>\n",
              "      <td>0.142436</td>\n",
              "      <td>0.308433</td>\n",
              "      <td>0.381462</td>\n",
              "      <td>0.334849</td>\n",
              "      <td>0.290870</td>\n",
              "      <td>0.394403</td>\n",
              "      <td>0.585975</td>\n",
              "      <td>0.056975</td>\n",
              "      <td>3</td>\n",
              "    </tr>\n",
              "    <tr>\n",
              "      <th>2</th>\n",
              "      <td>0.339152</td>\n",
              "      <td>0.124138</td>\n",
              "      <td>0.422494</td>\n",
              "      <td>0.346325</td>\n",
              "      <td>0.197473</td>\n",
              "      <td>0.599544</td>\n",
              "      <td>0.072937</td>\n",
              "      <td>0.444931</td>\n",
              "      <td>0.554563</td>\n",
              "      <td>0.395758</td>\n",
              "      <td>...</td>\n",
              "      <td>0.189513</td>\n",
              "      <td>0.491562</td>\n",
              "      <td>0.597841</td>\n",
              "      <td>0.592630</td>\n",
              "      <td>0.374409</td>\n",
              "      <td>0.499214</td>\n",
              "      <td>0.672652</td>\n",
              "      <td>0.456020</td>\n",
              "      <td>0.377146</td>\n",
              "      <td>6</td>\n",
              "    </tr>\n",
              "    <tr>\n",
              "      <th>3</th>\n",
              "      <td>0.245348</td>\n",
              "      <td>0.117241</td>\n",
              "      <td>0.412084</td>\n",
              "      <td>0.767463</td>\n",
              "      <td>0.164405</td>\n",
              "      <td>0.192171</td>\n",
              "      <td>0.228946</td>\n",
              "      <td>0.677797</td>\n",
              "      <td>0.469969</td>\n",
              "      <td>0.202030</td>\n",
              "      <td>...</td>\n",
              "      <td>0.189547</td>\n",
              "      <td>0.055806</td>\n",
              "      <td>0.268735</td>\n",
              "      <td>0.638174</td>\n",
              "      <td>0.214041</td>\n",
              "      <td>0.560417</td>\n",
              "      <td>0.556307</td>\n",
              "      <td>0.409258</td>\n",
              "      <td>0.311839</td>\n",
              "      <td>2</td>\n",
              "    </tr>\n",
              "    <tr>\n",
              "      <th>4</th>\n",
              "      <td>0.445917</td>\n",
              "      <td>0.127586</td>\n",
              "      <td>0.501790</td>\n",
              "      <td>0.438252</td>\n",
              "      <td>0.168665</td>\n",
              "      <td>0.406514</td>\n",
              "      <td>0.114515</td>\n",
              "      <td>0.479443</td>\n",
              "      <td>0.544208</td>\n",
              "      <td>0.215147</td>\n",
              "      <td>...</td>\n",
              "      <td>0.193739</td>\n",
              "      <td>0.234168</td>\n",
              "      <td>0.313882</td>\n",
              "      <td>0.386035</td>\n",
              "      <td>0.385880</td>\n",
              "      <td>0.496081</td>\n",
              "      <td>0.746932</td>\n",
              "      <td>0.473154</td>\n",
              "      <td>0.227023</td>\n",
              "      <td>1</td>\n",
              "    </tr>\n",
              "    <tr>\n",
              "      <th>...</th>\n",
              "      <td>...</td>\n",
              "      <td>...</td>\n",
              "      <td>...</td>\n",
              "      <td>...</td>\n",
              "      <td>...</td>\n",
              "      <td>...</td>\n",
              "      <td>...</td>\n",
              "      <td>...</td>\n",
              "      <td>...</td>\n",
              "      <td>...</td>\n",
              "      <td>...</td>\n",
              "      <td>...</td>\n",
              "      <td>...</td>\n",
              "      <td>...</td>\n",
              "      <td>...</td>\n",
              "      <td>...</td>\n",
              "      <td>...</td>\n",
              "      <td>...</td>\n",
              "      <td>...</td>\n",
              "      <td>...</td>\n",
              "      <td>...</td>\n",
              "    </tr>\n",
              "    <tr>\n",
              "      <th>249995</th>\n",
              "      <td>0.870249</td>\n",
              "      <td>0.079310</td>\n",
              "      <td>0.484528</td>\n",
              "      <td>0.450112</td>\n",
              "      <td>0.167175</td>\n",
              "      <td>0.118774</td>\n",
              "      <td>0.082395</td>\n",
              "      <td>0.612679</td>\n",
              "      <td>0.545368</td>\n",
              "      <td>0.242677</td>\n",
              "      <td>...</td>\n",
              "      <td>0.241886</td>\n",
              "      <td>0.269060</td>\n",
              "      <td>0.254725</td>\n",
              "      <td>0.660997</td>\n",
              "      <td>0.438570</td>\n",
              "      <td>0.594125</td>\n",
              "      <td>0.869547</td>\n",
              "      <td>0.333680</td>\n",
              "      <td>0.065403</td>\n",
              "      <td>11</td>\n",
              "    </tr>\n",
              "    <tr>\n",
              "      <th>249996</th>\n",
              "      <td>0.274089</td>\n",
              "      <td>0.082759</td>\n",
              "      <td>0.415447</td>\n",
              "      <td>0.890131</td>\n",
              "      <td>0.165821</td>\n",
              "      <td>0.544036</td>\n",
              "      <td>0.256987</td>\n",
              "      <td>0.360378</td>\n",
              "      <td>0.386499</td>\n",
              "      <td>0.333118</td>\n",
              "      <td>...</td>\n",
              "      <td>0.218431</td>\n",
              "      <td>0.280349</td>\n",
              "      <td>0.288654</td>\n",
              "      <td>0.467646</td>\n",
              "      <td>0.449557</td>\n",
              "      <td>0.466087</td>\n",
              "      <td>0.686884</td>\n",
              "      <td>0.403699</td>\n",
              "      <td>0.059352</td>\n",
              "      <td>5</td>\n",
              "    </tr>\n",
              "    <tr>\n",
              "      <th>249997</th>\n",
              "      <td>0.101018</td>\n",
              "      <td>0.241379</td>\n",
              "      <td>0.473186</td>\n",
              "      <td>0.690674</td>\n",
              "      <td>0.212432</td>\n",
              "      <td>0.465809</td>\n",
              "      <td>0.053025</td>\n",
              "      <td>0.445611</td>\n",
              "      <td>0.602446</td>\n",
              "      <td>0.346594</td>\n",
              "      <td>...</td>\n",
              "      <td>0.188978</td>\n",
              "      <td>0.179434</td>\n",
              "      <td>0.290540</td>\n",
              "      <td>0.417925</td>\n",
              "      <td>0.779458</td>\n",
              "      <td>0.319717</td>\n",
              "      <td>0.750155</td>\n",
              "      <td>0.321512</td>\n",
              "      <td>0.037225</td>\n",
              "      <td>1</td>\n",
              "    </tr>\n",
              "    <tr>\n",
              "      <th>249998</th>\n",
              "      <td>0.916993</td>\n",
              "      <td>0.100000</td>\n",
              "      <td>0.390208</td>\n",
              "      <td>0.650222</td>\n",
              "      <td>0.271376</td>\n",
              "      <td>0.375093</td>\n",
              "      <td>0.045322</td>\n",
              "      <td>0.583712</td>\n",
              "      <td>0.641758</td>\n",
              "      <td>0.732520</td>\n",
              "      <td>...</td>\n",
              "      <td>0.185292</td>\n",
              "      <td>0.310163</td>\n",
              "      <td>0.580464</td>\n",
              "      <td>0.702730</td>\n",
              "      <td>0.403668</td>\n",
              "      <td>0.755847</td>\n",
              "      <td>0.629169</td>\n",
              "      <td>0.313121</td>\n",
              "      <td>0.236888</td>\n",
              "      <td>10</td>\n",
              "    </tr>\n",
              "    <tr>\n",
              "      <th>249999</th>\n",
              "      <td>0.274682</td>\n",
              "      <td>0.234483</td>\n",
              "      <td>0.488270</td>\n",
              "      <td>0.244940</td>\n",
              "      <td>0.171375</td>\n",
              "      <td>0.581590</td>\n",
              "      <td>0.084303</td>\n",
              "      <td>0.565191</td>\n",
              "      <td>0.399904</td>\n",
              "      <td>0.260418</td>\n",
              "      <td>...</td>\n",
              "      <td>0.269773</td>\n",
              "      <td>0.507717</td>\n",
              "      <td>0.666021</td>\n",
              "      <td>0.368713</td>\n",
              "      <td>0.350692</td>\n",
              "      <td>0.447806</td>\n",
              "      <td>0.406551</td>\n",
              "      <td>0.307880</td>\n",
              "      <td>0.853506</td>\n",
              "      <td>7</td>\n",
              "    </tr>\n",
              "  </tbody>\n",
              "</table>\n",
              "<p>250000 rows × 101 columns</p>\n",
              "</div>"
            ]
          },
          "metadata": {
            "tags": []
          },
          "execution_count": 8
        }
      ]
    },
    {
      "cell_type": "code",
      "metadata": {
        "id": "6Z8R4hGm51Tb"
      },
      "source": [
        "from sklearn.model_selection import train_test_split\n",
        "X_train,X_test,y_train,y_test=train_test_split(dataset[dependent_columns],dataset['loss'],test_size=0.25,random_state=True,shuffle=True)"
      ],
      "execution_count": 9,
      "outputs": []
    },
    {
      "cell_type": "code",
      "metadata": {
        "id": "MXi_tiROG9WQ"
      },
      "source": [
        "X"
      ],
      "execution_count": null,
      "outputs": []
    },
    {
      "cell_type": "markdown",
      "metadata": {
        "id": "RYxTrjW9K2uc"
      },
      "source": [
        "#**Classifier**"
      ]
    },
    {
      "cell_type": "code",
      "metadata": {
        "id": "OVyTWKstP2HH"
      },
      "source": [
        "%%time\n",
        "from sklearn.svm import LinearSVC\n",
        "svcl=LinearSVC()\n",
        "svcl.fit(X_train,y_train)"
      ],
      "execution_count": null,
      "outputs": []
    },
    {
      "cell_type": "code",
      "metadata": {
        "id": "_mXQWz3wOkCF"
      },
      "source": [
        "from sklearn.tree import DecisionTreeClassifier\n",
        "dct=DecisionTreeClassifier()\n",
        "dct.fit(X_train,y_train)"
      ],
      "execution_count": null,
      "outputs": []
    },
    {
      "cell_type": "code",
      "metadata": {
        "id": "GR2ANNTSK1qF"
      },
      "source": [
        "from sklearn.ensemble import RandomForestClassifier\n",
        "rfc=RandomForestClassifier(n_estimators=40)\n",
        "rfc.fit(X_train,y_train)"
      ],
      "execution_count": null,
      "outputs": []
    },
    {
      "cell_type": "code",
      "metadata": {
        "id": "m9Oig3FYLUis"
      },
      "source": [
        "mean_squared_error(y_test,logc.predict(X_test))**0.5"
      ],
      "execution_count": null,
      "outputs": []
    },
    {
      "cell_type": "code",
      "metadata": {
        "id": "D_ACN1KrN6io"
      },
      "source": [
        "lass.predict(X_test)"
      ],
      "execution_count": null,
      "outputs": []
    },
    {
      "cell_type": "code",
      "metadata": {
        "id": "N9ODCGILOB47"
      },
      "source": [
        "y_test"
      ],
      "execution_count": null,
      "outputs": []
    },
    {
      "cell_type": "markdown",
      "metadata": {
        "id": "x3AumTS3Nvsg"
      },
      "source": [
        "appending the prediction from "
      ]
    },
    {
      "cell_type": "code",
      "metadata": {
        "id": "Lr3jAwzZLUfG"
      },
      "source": [
        ""
      ],
      "execution_count": null,
      "outputs": []
    },
    {
      "cell_type": "code",
      "metadata": {
        "id": "hyRp4sQBLUch"
      },
      "source": [
        ""
      ],
      "execution_count": null,
      "outputs": []
    },
    {
      "cell_type": "code",
      "metadata": {
        "id": "-lpV734OLUaJ"
      },
      "source": [
        ""
      ],
      "execution_count": null,
      "outputs": []
    },
    {
      "cell_type": "code",
      "metadata": {
        "id": "SPKeCkLiLUXu"
      },
      "source": [
        ""
      ],
      "execution_count": null,
      "outputs": []
    },
    {
      "cell_type": "code",
      "metadata": {
        "id": "aHCE129BLUVS"
      },
      "source": [
        ""
      ],
      "execution_count": null,
      "outputs": []
    },
    {
      "cell_type": "code",
      "metadata": {
        "id": "U_9ErfjKLUSh"
      },
      "source": [
        ""
      ],
      "execution_count": null,
      "outputs": []
    },
    {
      "cell_type": "code",
      "metadata": {
        "id": "yAr7s-7oLUPr"
      },
      "source": [
        ""
      ],
      "execution_count": null,
      "outputs": []
    },
    {
      "cell_type": "code",
      "metadata": {
        "id": "DgAAeWdbLUMU"
      },
      "source": [
        ""
      ],
      "execution_count": null,
      "outputs": []
    },
    {
      "cell_type": "code",
      "metadata": {
        "id": "wVrqgYhcLUCC"
      },
      "source": [
        ""
      ],
      "execution_count": null,
      "outputs": []
    },
    {
      "cell_type": "markdown",
      "metadata": {
        "id": "9UbcTDYFK5AC"
      },
      "source": [
        "#**LightGBM using Optuna Hyperparameter tuning**"
      ]
    },
    {
      "cell_type": "code",
      "metadata": {
        "id": "oIEQoVUwALn3"
      },
      "source": [
        "import optuna.integration.lightgbm as lgbo"
      ],
      "execution_count": null,
      "outputs": []
    },
    {
      "cell_type": "code",
      "metadata": {
        "id": "oW91z3kOBRd5"
      },
      "source": [
        "lgb_train=lgbo.Dataset(X_train,y_train)\n",
        "lgb_valid=lgbo.Dataset(X_test,y_test)"
      ],
      "execution_count": null,
      "outputs": []
    },
    {
      "cell_type": "code",
      "metadata": {
        "id": "SogcyeOLBswh"
      },
      "source": [
        "params={'objective':'mean_squared_error','metric': 'rmse'}\n",
        "model=lgbo.train(params,lgb_train,valid_sets=lgb_valid,verbose_eval=False, num_boost_round=100, early_stopping_rounds=5)\n"
      ],
      "execution_count": null,
      "outputs": []
    },
    {
      "cell_type": "code",
      "metadata": {
        "id": "ti9sUrY9CZ9D"
      },
      "source": [
        "best_lgb_params =model.params\n",
        "best_lgb_params[\"learning_rate\"] = 0.003\n",
        "best_lgb_params[\"early_stopping_round\"] = 1000\n",
        "best_lgb_params[\"num_iterations\"] = 80000"
      ],
      "execution_count": null,
      "outputs": []
    },
    {
      "cell_type": "code",
      "metadata": {
        "id": "P3J-N3TsDm7I"
      },
      "source": [
        "from sklearn.model_selection import KFold\n",
        "import lightgbm as lgb\n",
        "kfld=KFold(n_splits=5,shuffle=True,random_state=42)\n",
        "\n",
        "models=[]\n",
        "\n",
        "for fold,(train_index,test_index) in enumerate(kfld.split(dataset[dependent_columns],dataset['loss'])):\n",
        "  lgb_train=lgb.Dataset(dataset[dependent_columns].loc[train_index],dataset['loss'].loc[train_index])\n",
        "  lgb_test=lgb.Dataset(dataset[dependent_columns].loc[test_index],dataset['loss'].loc[test_index])\n",
        "  _model=lgb.train(best_lgb_params,lgb_train,valid_sets=lgb_test,verbose_eval=100)\n",
        "  models.append(_model)\n"
      ],
      "execution_count": null,
      "outputs": []
    },
    {
      "cell_type": "code",
      "metadata": {
        "id": "4GR3URbtFEt_"
      },
      "source": [
        "from sklearn.metrics import mean_squared_error\n",
        "for model1 in models:\n",
        "  print(mean_squared_error(y_test,model1.predict(X_test))**0.5)\n"
      ],
      "execution_count": null,
      "outputs": []
    },
    {
      "cell_type": "code",
      "metadata": {
        "id": "znuxvA3bFNd4"
      },
      "source": [
        "test_final=pd.read_csv(r'C:\\AI Practice\\Tabular Playground Series - Aug 2021\\test.csv')\n",
        "id_index=test_final['id']\n",
        "test_final.drop('id',inplace=True,axis=1)\n",
        "test_final[dependent_columns]=scaler.transform(test_final[dependent_columns])"
      ],
      "execution_count": null,
      "outputs": []
    },
    {
      "cell_type": "code",
      "metadata": {
        "id": "HIJ-gTplInFK"
      },
      "source": [
        "test_final"
      ],
      "execution_count": null,
      "outputs": []
    },
    {
      "cell_type": "code",
      "metadata": {
        "id": "e7HaqMbkDvMR"
      },
      "source": [
        "lpred=[]\n",
        "spl=5\n",
        "for model in models:\n",
        "   lpred.append(model.predict(test_final[dependent_columns]))\n",
        "pred=lpred[0]\n",
        "for i in range(1,spl):\n",
        "   pred += lpred[i]\n",
        "test_pred = pred /spl"
      ],
      "execution_count": null,
      "outputs": []
    },
    {
      "cell_type": "code",
      "metadata": {
        "id": "1c9WkjbkD29e"
      },
      "source": [
        "test_pred=pd.DataFrame(test_pred)\n",
        "test_pred.columns=['loss']"
      ],
      "execution_count": null,
      "outputs": []
    },
    {
      "cell_type": "code",
      "metadata": {
        "id": "SMvy4MEHEB0e"
      },
      "source": [
        "test_pred['id']=id_index"
      ],
      "execution_count": null,
      "outputs": []
    },
    {
      "cell_type": "code",
      "metadata": {
        "id": "npK_4IBnEE9-"
      },
      "source": [
        "test_pred=test_pred[['id','loss']]"
      ],
      "execution_count": null,
      "outputs": []
    },
    {
      "cell_type": "code",
      "metadata": {
        "id": "kC96uS-5EJA0"
      },
      "source": [
        "%%time\n",
        "test_pred.to_csv(r'C:\\AI Practice\\Tabular Playground Series - Aug 2021\\submit.csv',index=False)"
      ],
      "execution_count": null,
      "outputs": []
    },
    {
      "cell_type": "code",
      "metadata": {
        "id": "uAO9HkRIExSE"
      },
      "source": [
        ""
      ],
      "execution_count": null,
      "outputs": []
    }
  ]
}